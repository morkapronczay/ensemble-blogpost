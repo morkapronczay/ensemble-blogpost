{
 "cells": [
  {
   "cell_type": "code",
   "execution_count": 27,
   "metadata": {},
   "outputs": [],
   "source": [
    "import numpy as np\n",
    "import bootstrapped.bootstrap as bs\n",
    "import bootstrapped.stats_functions as bs_stats\n",
    "from scipy import stats\n",
    "%matplotlib inline\n",
    "import matplotlib.pyplot as plt\n",
    "import seaborn as sns\n",
    "from matplotlib.lines import Line2D"
   ]
  },
  {
   "cell_type": "markdown",
   "metadata": {},
   "source": [
    "## SIMULATE DATA\n",
    "We generate a theoretical population of size <i>N</i>, and draw a sample of <i>n</i> from it.<br>\n",
    "Hint: choosing the first 5000 is just as random in this case as any other method."
   ]
  },
  {
   "cell_type": "code",
   "execution_count": 2,
   "metadata": {},
   "outputs": [],
   "source": [
    "np.random.seed(101)\n",
    "N = 50000 # the theoretical population size\n",
    "n = 5000 # sample size 5000 user gets the new landing page, 5000 gets the old one\n",
    "\n",
    "p_control = 0.01 # let's say 1% of the users getting the old page subscribe \n",
    "p_treatment = 0.005    # let's say 0.5% of the users getting the new page subscribe "
   ]
  },
  {
   "cell_type": "code",
   "execution_count": 3,
   "metadata": {},
   "outputs": [],
   "source": [
    "# generate data with the above probabilities\n",
    "# 1 means a user subscribed, 0 means leaving without subscription\n",
    "control_subscribes_pop = [np.random.choice(np.arange(0, 2), p = [(1 - p_control), p_control]) for f in range(N)]\n",
    "treatment_subscribes_pop = [np.random.choice(np.arange(0, 2), p = [(1 - p_treatment), p_treatment]) for f in range(N)]"
   ]
  },
  {
   "cell_type": "code",
   "execution_count": 4,
   "metadata": {},
   "outputs": [],
   "source": [
    "control_subscribes = control_subscribes_pop[:5000]\n",
    "treatment_subscribes = treatment_subscribes_pop[:5000]"
   ]
  },
  {
   "cell_type": "markdown",
   "metadata": {},
   "source": [
    "## MEAN"
   ]
  },
  {
   "cell_type": "code",
   "execution_count": 5,
   "metadata": {
    "scrolled": true
   },
   "outputs": [
    {
     "name": "stdout",
     "output_type": "stream",
     "text": [
      "1.044%\n"
     ]
    }
   ],
   "source": [
    "print(f\"{np.mean(control_subscribes_pop):0.3%}\") # calculate mean of population of NOT treated visitors"
   ]
  },
  {
   "cell_type": "code",
   "execution_count": 6,
   "metadata": {},
   "outputs": [
    {
     "name": "stdout",
     "output_type": "stream",
     "text": [
      "0.506%\n"
     ]
    }
   ],
   "source": [
    "print(f\"{np.mean(treatment_subscribes_pop):0.3%}\") # calculate mean of population of treated visitors"
   ]
  },
  {
   "cell_type": "code",
   "execution_count": 7,
   "metadata": {},
   "outputs": [
    {
     "name": "stdout",
     "output_type": "stream",
     "text": [
      "1.040%\n"
     ]
    }
   ],
   "source": [
    "print(f\"{np.mean(control_subscribes):0.3%}\") # calculate mean of sample of NOT treated visitors"
   ]
  },
  {
   "cell_type": "code",
   "execution_count": 8,
   "metadata": {},
   "outputs": [
    {
     "name": "stdout",
     "output_type": "stream",
     "text": [
      "0.660%\n"
     ]
    }
   ],
   "source": [
    "print(f\"{np.mean(treatment_subscribes):0.3%}\") # calculate mean of sample of treated visitors"
   ]
  },
  {
   "cell_type": "markdown",
   "metadata": {},
   "source": [
    "## BOOTSTRAPPED MEAN\n",
    "\n",
    "Perform bootstrapping.<br>\n",
    "This means resampling the data with replacement 5000 (num_iterations) times (therefore some values will be duplicates).<br>\n",
    "By this, we obtain an empirical distribution of sample means.<br>\n",
    "From this distribution we can calculate percentiles, which will serve as confidence intervals.<br>\n",
    "Here I chose 99% (1 - alpha) as confidence interval.<br>"
   ]
  },
  {
   "cell_type": "code",
   "execution_count": 9,
   "metadata": {},
   "outputs": [],
   "source": [
    "alpha = 0.01 # confidence interval (1-alpha)\n",
    "n_samples = 5000 # number of resamples\n",
    "\n",
    "# calculate mean using bootstrap on both samples\n",
    "bootstrapped_mean_control = bs.bootstrap(np.array(control_subscribes),\n",
    "                                             stat_func=bs_stats.mean,\n",
    "                                             alpha=alpha,\n",
    "                                             num_iterations=n_samples)\n",
    "bootstrapped_mean_treatment = bs.bootstrap(np.array(treatment_subscribes),\n",
    "                                         stat_func=bs_stats.mean,\n",
    "                                         alpha=alpha,\n",
    "                                         num_iterations=n_samples)"
   ]
  },
  {
   "cell_type": "code",
   "execution_count": 10,
   "metadata": {},
   "outputs": [
    {
     "name": "stdout",
     "output_type": "stream",
     "text": [
      "After resampling 5000 times...\n",
      "\n",
      "The bootstrapped mean estimation of NOT treated visitors is 1.040%.\n",
      "The 99% confidence interval is between 0.620%       and 1.380%\n",
      "\n",
      "\n",
      "The bootstrapped mean estimation of treated visitors is 0.660%.\n",
      "The 99% confidence interval is between 0.340%       and 0.940%\n"
     ]
    }
   ],
   "source": [
    "print(f\"After resampling {n_samples} times...\\n\")\n",
    "print(f\"The bootstrapped mean estimation of NOT treated visitors is {bootstrapped_mean_control.value:0.3%}.\")\n",
    "print(f\"The {(1-alpha):.0%} confidence interval is between {bootstrapped_mean_control.lower_bound:0.3%} \\\n",
    "      and {bootstrapped_mean_control.upper_bound:0.3%}\")\n",
    "print(\"\\n\")\n",
    "print(f\"The bootstrapped mean estimation of treated visitors is {bootstrapped_mean_treatment.value:0.3%}.\")\n",
    "print(f\"The {(1-alpha):.0%} confidence interval is between {bootstrapped_mean_treatment.lower_bound:0.3%} \\\n",
    "      and {bootstrapped_mean_treatment.upper_bound:0.3%}\")"
   ]
  },
  {
   "cell_type": "markdown",
   "metadata": {},
   "source": [
    "## T-TEST\n",
    "Perform T-test on equality of means:<br>\n",
    "H0: mean_not_treated = mean_treated<br>\n",
    "H1: mean_not_treated != mean_treated"
   ]
  },
  {
   "cell_type": "code",
   "execution_count": 11,
   "metadata": {},
   "outputs": [],
   "source": [
    "# bootstrapping: return distribution of sample means\n",
    "bootstrapped_meandist_control = bs.bootstrap(np.array(control_subscribes),\n",
    "                                                 stat_func=bs_stats.mean,\n",
    "                                                 alpha=alpha,\n",
    "                                                 num_iterations=n_samples,\n",
    "                                                 return_distribution=True)\n",
    "bootstrapped_meandist_treatment = bs.bootstrap(np.array(treatment_subscribes),\n",
    "                                             stat_func=bs_stats.mean,\n",
    "                                             alpha=alpha,\n",
    "                                             num_iterations=n_samples,\n",
    "                                             return_distribution=True)"
   ]
  },
  {
   "cell_type": "code",
   "execution_count": 63,
   "metadata": {},
   "outputs": [
    {
     "data": {
      "text/plain": [
       "<matplotlib.legend.Legend at 0x7fdf0cf6f860>"
      ]
     },
     "execution_count": 63,
     "metadata": {},
     "output_type": "execute_result"
    },
    {
     "data": {
      "image/png": "[encoded data removed]",
      "text/plain": [
       "<Figure size 720x504 with 1 Axes>"
      ]
     },
     "metadata": {
      "needs_background": "light"
     },
     "output_type": "display_data"
    }
   ],
   "source": [
    "fig, ax = plt.subplots(figsize = (10,7))\n",
    "sns.distplot(bootstrapped_meandist_control, bins = 10, ax = ax, kde = False)\n",
    "sns.distplot(bootstrapped_meandist_treatment, bins = 10, ax = ax, kde = False)\n",
    "plt.axvline(bootstrapped_mean_control.value, color = 'blue')\n",
    "plt.axvline(bootstrapped_mean_control.lower_bound, color = 'blue', linestyle = '--')\n",
    "plt.axvline(bootstrapped_mean_control.upper_bound, color = 'blue', linestyle = '--')\n",
    "plt.axvline(bootstrapped_mean_treatment.value, color = 'orange')\n",
    "plt.axvline(bootstrapped_mean_treatment.lower_bound, color = 'orange', linestyle = '--')\n",
    "plt.axvline(bootstrapped_mean_treatment.upper_bound, color = 'orange', linestyle = '--')\n",
    "plt.title('Empirical distribution of sample means')\n",
    "custom_legend = [Line2D([0], [0], color='blue', lw=4),\n",
    "                Line2D([0], [0], color='orange', lw=4)]\n",
    "ax.legend(custom_legend, ['Control', 'Treated'])"
   ]
  },
  {
   "cell_type": "code",
   "execution_count": 12,
   "metadata": {},
   "outputs": [
    {
     "name": "stdout",
     "output_type": "stream",
     "text": [
      "Probability of H0 (equal means) being true: 0%.\n"
     ]
    }
   ],
   "source": [
    "scipy_ttest = stats.ttest_ind(bootstrapped_meandist_control, bootstrapped_meandist_treatment)\n",
    "print(f\"Probability of H0 (equal means) being true: {scipy_ttest.pvalue:0.0%}.\")"
   ]
  },
  {
   "cell_type": "code",
   "execution_count": 13,
   "metadata": {},
   "outputs": [],
   "source": [
    "# or code out?"
   ]
  },
  {
   "cell_type": "code",
   "execution_count": 14,
   "metadata": {},
   "outputs": [
    {
     "name": "stdout",
     "output_type": "stream",
     "text": [
      "Variance of treated visitors:\t\t 2.12183300660132e-06\n",
      "Variance of NOT treated visitors:\t 1.3181146053210643e-06\n"
     ]
    }
   ],
   "source": [
    "# calculate variances of sample mean distributions\n",
    "var_treatment = np.array(bootstrapped_meandist_control).var(ddof = 1)\n",
    "var_control = np.array(bootstrapped_meandist_treatment).var(ddof = 1)\n",
    "print(f\"Variance of treated visitors:\\t\\t {var_treatment}\")\n",
    "print(f\"Variance of NOT treated visitors:\\t {var_control}\")"
   ]
  },
  {
   "cell_type": "code",
   "execution_count": 15,
   "metadata": {},
   "outputs": [],
   "source": [
    "# calculate s for t-test\n",
    "s = np.sqrt((var_treatment + var_control) / 2)"
   ]
  },
  {
   "cell_type": "code",
   "execution_count": 16,
   "metadata": {},
   "outputs": [
    {
     "name": "stdout",
     "output_type": "stream",
     "text": [
      "Value of t-statistic: 145.17364444945258\n"
     ]
    }
   ],
   "source": [
    "# calculate t-statistic\n",
    "t = (np.mean(bootstrapped_meandist_control) - np.mean(bootstrapped_meandist_treatment)) / (s * np.sqrt(2 / n))\n",
    "print(f\"Value of t-statistic: {t}\")"
   ]
  },
  {
   "cell_type": "code",
   "execution_count": 17,
   "metadata": {},
   "outputs": [
    {
     "name": "stdout",
     "output_type": "stream",
     "text": [
      "Degrees of freedom: 9998\n"
     ]
    }
   ],
   "source": [
    "# calculate degrees of freedom\n",
    "df = 2 * n - 2\n",
    "print(f\"Degrees of freedom: {df}\")"
   ]
  },
  {
   "cell_type": "code",
   "execution_count": 18,
   "metadata": {},
   "outputs": [
    {
     "name": "stdout",
     "output_type": "stream",
     "text": [
      "Probability of H0 (equal means) being true: 0%.\n"
     ]
    }
   ],
   "source": [
    "# calculate probability of H0\n",
    "p = 1 - stats.t.cdf(t, df=df)\n",
    "print(f\"Probability of H0 (equal means) being true: {p:0.0%}.\")"
   ]
  },
  {
   "cell_type": "markdown",
   "metadata": {},
   "source": [
    "### By this we destroyed the idea of the large, red, flashing SUBSCRIBE button."
   ]
  },
  {
   "cell_type": "markdown",
   "metadata": {},
   "source": [
    "## CHECKS"
   ]
  },
  {
   "cell_type": "code",
   "execution_count": 19,
   "metadata": {},
   "outputs": [
    {
     "data": {
      "text/plain": [
       "True"
      ]
     },
     "execution_count": 19,
     "metadata": {},
     "output_type": "execute_result"
    }
   ],
   "source": [
    "p == scipy_ttest.pvalue"
   ]
  },
  {
   "cell_type": "code",
   "execution_count": 20,
   "metadata": {},
   "outputs": [
    {
     "data": {
      "text/plain": [
       "True"
      ]
     },
     "execution_count": 20,
     "metadata": {},
     "output_type": "execute_result"
    }
   ],
   "source": [
    "t == scipy_ttest.statistic"
   ]
  }
 ],
 "metadata": {
  "kernelspec": {
   "display_name": "Python 3",
   "language": "python",
   "name": "python3"
  },
  "language_info": {
   "codemirror_mode": {
    "name": "ipython",
    "version": 3
   },
   "file_extension": ".py",
   "mimetype": "text/x-python",
   "name": "python",
   "nbconvert_exporter": "python",
   "pygments_lexer": "ipython3",
   "version": "3.6.7"
  },
  "toc": {
   "base_numbering": 1,
   "nav_menu": {},
   "number_sections": false,
   "sideBar": false,
   "skip_h1_title": false,
   "title_cell": "Table of Contents",
   "title_sidebar": "Contents",
   "toc_cell": false,
   "toc_position": {},
   "toc_section_display": false,
   "toc_window_display": false
  }
 },
 "nbformat": 4,
 "nbformat_minor": 2
}
